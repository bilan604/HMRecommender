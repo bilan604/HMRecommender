{
 "cells": [
  {
   "cell_type": "markdown",
   "metadata": {},
   "source": [
    "# PROJECT"
   ]
  },
  {
   "cell_type": "markdown",
   "metadata": {},
   "source": [
    "## k-means  \n",
    "\n",
    "Customers into groups:\n",
    "-explain why (men/women, old/young)"
   ]
  },
  {
   "cell_type": "markdown",
   "metadata": {},
   "source": [
    "## Similarity Score: An item v.s. Items a customer has bought  \n",
    "\n",
    "Specificity:\n",
    "\n",
    "Each item of clothing that customers buy have characteristics such as the color, and each characteristic has values such as blue or black. Having the \"color black\" can be considered a feature.  \n",
    "\n",
    "These items can be represented in a $c \\cdot v$ sparse matrix $I$, where  \n",
    "$c =$ the number of characteristics  \n",
    "$v =$ the largest number of values (that any characteristic has)  \n",
    "and $I_{c,v} = 1$ if the item has the value for the characteristic (the item has that \"feature\"), 0 otherwise.  \n",
    "(ie: if item $I$ had the 2nd possible value (children) for the 4th characteristic (department), $I_{4,2}=1$)\n",
    "\n",
    "Similarly, a persons's purchases can be represented by the same $c \\cdot v$ sparse matrix $P$  \n",
    "except $P_{c,v} =$ the sum of all matrices in their purchase history, or the total number of times the value for the characteristic appears.  \n",
    "\n",
    "An interesting consequence is that  $I \\cdot P^{T}$ is a square matrix with a diagonal representing the features present in the item that the person tends to buy. The sum of the diagonal matrix divided by the total number of features in a person's purchase history will be our Similarity Score:\n",
    "\n",
    "$$\\frac{\\sum \\limits diag(I \\cdot P^{T})}{|P|}$$\n"
   ]
  },
  {
   "cell_type": "markdown",
   "metadata": {},
   "source": [
    "## Other variables for linear regression  \n",
    "\n",
    "The other variables are price difference, absolute seasonal difference in days (and popularity of item (within cluster?)?) for linear regression.  \n",
    "\n",
    "For each item and person, an $n-$dimensional vector of these variables $r$ can be formed.  \n",
    "For one person with $m$ items to buy, an $m \\cdot n$ matrix $A$ can be formed.  \n",
    "\n",
    "Combined with the $m \\cdot 1$ vector $b$ containing binary outcome of whether the item was purchased, we have a linear regression model:  \n",
    "\n",
    "$$Ax = b$$\n"
   ]
  },
  {
   "cell_type": "markdown",
   "metadata": {},
   "source": [
    "  "
   ]
  },
  {
   "cell_type": "markdown",
   "metadata": {},
   "source": [
    "Vector of features they have in common:  \n",
    "$A[i] x A[j]$  \n",
    "\n",
    "Number of features in common:  \n",
    "$ A[i] \\cdot A[j])$  \n"
   ]
  },
  {
   "cell_type": "markdown",
   "metadata": {},
   "source": [
    "If  \n",
    "$C_1 = \\sum \\limits_{i=1}^{8} A[i]$"
   ]
  },
  {
   "cell_type": "markdown",
   "metadata": {},
   "source": [
    "weighted similarity score for random article with indice $r$:  \n",
    "$ C_{1} x A[r] $"
   ]
  },
  {
   "cell_type": "markdown",
   "metadata": {},
   "source": [
    "  "
   ]
  },
  {
   "cell_type": "markdown",
   "metadata": {},
   "source": [
    "## Training  \n",
    "\n",
    "The sample size for each customer is very small, so we will be implementing bootstrapping the data in a way inspirired by k-fold cross validation.  \n",
    "Subtract I from P when calculating the similarity score, along with a few other random items proportional to the total number of items they have bought.\n",
    "\n",
    "\n"
   ]
  },
  {
   "cell_type": "code",
   "execution_count": 1,
   "metadata": {},
   "outputs": [],
   "source": [
    "import os \n",
    "import re\n",
    "import math\n",
    "import random\n",
    "from random import randint, sample\n",
    "import statistics\n",
    "import pandas as pd\n",
    "import numpy as np\n",
    "from numpy import unique\n",
    "from numpy.random import random_sample\n",
    "from numpy import sqrt, dot, array, diagonal, mean, transpose, eye, diag, zeros\n",
    "from numpy.linalg import inv, qr\n",
    "from sklearn.linear_model import LinearRegression\n",
    "from sklearn.cluster import KMeans\n",
    "from sklearn.preprocessing import OneHotEncoder"
   ]
  },
  {
   "cell_type": "code",
   "execution_count": 2,
   "metadata": {},
   "outputs": [],
   "source": [
    "articles = pd.read_csv(\"articles.csv\")\n",
    "customers = pd.read_csv(\"customers.csv\")\n",
    "transactions_raw = pd.read_csv(\"transactions_train.csv\").drop(\"sales_channel_id\", axis = 1)"
   ]
  },
  {
   "cell_type": "code",
   "execution_count": 8,
   "metadata": {},
   "outputs": [],
   "source": []
  },
  {
   "cell_type": "code",
   "execution_count": 9,
   "metadata": {},
   "outputs": [],
   "source": [
    "def encode(data):\n",
    "    \"\"\"Returns a fitted one-hot-encodeder\"\"\"\n",
    "    encoder = OneHotEncoder()\n",
    "    encoder.fit(data)\n",
    "    return encoder\n",
    "\n",
    "def view(enc_article):\n",
    "    \"\"\"\n",
    "    Takes: a similarity vector \n",
    "    Returns: a list of characteristics to print\n",
    "    \"\"\"\n",
    "    global features\n",
    "    if len(enc_article) != len(features):\n",
    "        return [\"Viewing: They're not the same length\"]\n",
    "    else:\n",
    "        chars = []\n",
    "        for i in range(len(enc_article)):\n",
    "            if enc_article[i] == 1:\n",
    "                chars.append(features[i])\n",
    "        return chars\n",
    "    \n",
    "def prune_customers(transactions, n_transactions, min_buy):\n",
    "    \"\"\"\n",
    "    returns a dictionary of {customer_ids: list of purchase arrays}\n",
    "    \"\"\"\n",
    "    # because dropping NA in customers first, not all transactions correspond to a customer\n",
    "    customers_no_NA = list(array(customers[\"customer_id\"]))\n",
    "    transactions_new = transactions.iloc[-n_transactions:]  # at 30K:: iloc[31758324] :: last one would be that num + 29,999\n",
    "    first_ind = transactions_new.iloc[0].name\n",
    "    unique_customer_ids = unique(transactions_new[\"customer_id\"])    \n",
    "    dd = {customer_id:[] for customer_id in unique_customer_ids}\n",
    "    for row in transactions_new.iterrows():\n",
    "            dd[row[1][1]].append((row[1][2], row[1][3], row[1][0]))  # an array (tr_id, price, date)\n",
    "    dd = {customer: dd[customer] for customer in dd if len(dd[customer]) >= min_buy}\n",
    "    return {customer: dd[customer] for customer in dd if customer in customers_no_NA}\n",
    "\n",
    "def prune_customersDF(_customers, _customer_transactions):\n",
    "    \"\"\"\n",
    "    Used to shrink customersDF into only the ones selected \n",
    "    Returns: a DF\n",
    "    \"\"\"\n",
    "    # uses indices for iloc\n",
    "    indices = []\n",
    "    customer_ids = list(_customers[\"customer_id\"])\n",
    "    IDs = list(_customer_transactions.keys())\n",
    "    for _id in IDs:\n",
    "        indices.append(customer_ids.index(_id))\n",
    "    return _customers.iloc[indices]\n",
    "\n",
    "# get all the relevant articles\n",
    "def prune_articlesDF(customer_transactions, raw_articles):\n",
    "    \"\"\" (for the sake of runtime)\n",
    "    Returns a DF of articles that have been purchased\n",
    "    \"\"\"\n",
    "    raw_article_ids = list(raw_articles[\"article_id\"])\n",
    "    indices = []\n",
    "    for cart in customer_transactions:\n",
    "        for article in customer_transactions[cart]:\n",
    "            indices.append(raw_article_ids.index(article[0]))\n",
    "    return raw_articles.iloc[indices]"
   ]
  },
  {
   "cell_type": "code",
   "execution_count": 13,
   "metadata": {},
   "outputs": [
    {
     "data": {
      "text/plain": [
       "264"
      ]
     },
     "execution_count": 13,
     "metadata": {},
     "output_type": "execute_result"
    }
   ],
   "source": [
    "customer_transactions = prune_customers(transactions_raw, 50000, 10)\n",
    "customers = prune_customersDF(customers, customer_transactions)\n",
    "articles = prune_articlesDF(customer_transactions, articles)\n",
    "\n",
    "## \"product_type_name\" might be very good to use; nah is 45k unique vals\n",
    "drop1 = [\"article_id\", \"product_code\", \"prod_name\", \"product_type_no\", \"graphical_appearance_no\"]\n",
    "drop2 = [\"colour_group_code\", \"perceived_colour_value_id\", \"perceived_colour_master_id\", \"department_no\"]\n",
    "drop3 = [\"index_code\", \"index_group_no\", \"section_no\"]  \n",
    "drop4 = [\"garment_group_no\", \"detail_desc\"]  # , \"colour_group_name\", \"perceived_colour_master_name\"\n",
    "articles_enc = articles.drop(columns=drop1)\n",
    "articles_enc = articles_enc.drop(columns=drop2)\n",
    "articles_enc = articles_enc.drop(columns=drop3)\n",
    "\n",
    "# the articles to encode\n",
    "articles_enc = articles_enc.drop(columns=drop4)\n",
    "\n",
    "# didn't drop: \"product_type_name\", \"department_name\"\n",
    "\n",
    "articles_enc.head()"
   ]
  },
  {
   "cell_type": "code",
   "execution_count": 16,
   "metadata": {},
   "outputs": [],
   "source": []
  },
  {
   "cell_type": "code",
   "execution_count": 17,
   "metadata": {},
   "outputs": [
    {
     "data": {
      "text/html": [
       "<div>\n",
       "<style scoped>\n",
       "    .dataframe tbody tr th:only-of-type {\n",
       "        vertical-align: middle;\n",
       "    }\n",
       "\n",
       "    .dataframe tbody tr th {\n",
       "        vertical-align: top;\n",
       "    }\n",
       "\n",
       "    .dataframe thead th {\n",
       "        text-align: right;\n",
       "    }\n",
       "</style>\n",
       "<table border=\"1\" class=\"dataframe\">\n",
       "  <thead>\n",
       "    <tr style=\"text-align: right;\">\n",
       "      <th></th>\n",
       "      <th>product_type_name</th>\n",
       "      <th>product_group_name</th>\n",
       "      <th>graphical_appearance_name</th>\n",
       "      <th>colour_group_name</th>\n",
       "      <th>perceived_colour_value_name</th>\n",
       "      <th>perceived_colour_master_name</th>\n",
       "      <th>department_name</th>\n",
       "      <th>index_name</th>\n",
       "      <th>index_group_name</th>\n",
       "      <th>section_name</th>\n",
       "      <th>garment_group_name</th>\n",
       "    </tr>\n",
       "  </thead>\n",
       "  <tbody>\n",
       "    <tr>\n",
       "      <th>104954</th>\n",
       "      <td>Top</td>\n",
       "      <td>Garment Upper body</td>\n",
       "      <td>Solid</td>\n",
       "      <td>Black</td>\n",
       "      <td>Dark</td>\n",
       "      <td>Black</td>\n",
       "      <td>Jersey fancy</td>\n",
       "      <td>Ladieswear</td>\n",
       "      <td>Ladieswear</td>\n",
       "      <td>Womens Everyday Collection</td>\n",
       "      <td>Jersey Fancy</td>\n",
       "    </tr>\n",
       "    <tr>\n",
       "      <th>53914</th>\n",
       "      <td>Trousers</td>\n",
       "      <td>Garment Lower body</td>\n",
       "      <td>Solid</td>\n",
       "      <td>Blue</td>\n",
       "      <td>Medium Dusty</td>\n",
       "      <td>Blue</td>\n",
       "      <td>Trousers</td>\n",
       "      <td>Divided</td>\n",
       "      <td>Divided</td>\n",
       "      <td>Divided Collection</td>\n",
       "      <td>Trousers</td>\n",
       "    </tr>\n",
       "    <tr>\n",
       "      <th>17171</th>\n",
       "      <td>Trousers</td>\n",
       "      <td>Garment Lower body</td>\n",
       "      <td>Denim</td>\n",
       "      <td>Black</td>\n",
       "      <td>Dark</td>\n",
       "      <td>Black</td>\n",
       "      <td>Trouser</td>\n",
       "      <td>Ladieswear</td>\n",
       "      <td>Ladieswear</td>\n",
       "      <td>Womens Everyday Collection</td>\n",
       "      <td>Trousers</td>\n",
       "    </tr>\n",
       "    <tr>\n",
       "      <th>104341</th>\n",
       "      <td>Bodysuit</td>\n",
       "      <td>Garment Upper body</td>\n",
       "      <td>Lace</td>\n",
       "      <td>Black</td>\n",
       "      <td>Dark</td>\n",
       "      <td>Black</td>\n",
       "      <td>Jersey fancy</td>\n",
       "      <td>Ladieswear</td>\n",
       "      <td>Ladieswear</td>\n",
       "      <td>Womens Everyday Collection</td>\n",
       "      <td>Jersey Fancy</td>\n",
       "    </tr>\n",
       "    <tr>\n",
       "      <th>104341</th>\n",
       "      <td>Bodysuit</td>\n",
       "      <td>Garment Upper body</td>\n",
       "      <td>Lace</td>\n",
       "      <td>Black</td>\n",
       "      <td>Dark</td>\n",
       "      <td>Black</td>\n",
       "      <td>Jersey fancy</td>\n",
       "      <td>Ladieswear</td>\n",
       "      <td>Ladieswear</td>\n",
       "      <td>Womens Everyday Collection</td>\n",
       "      <td>Jersey Fancy</td>\n",
       "    </tr>\n",
       "  </tbody>\n",
       "</table>\n",
       "</div>"
      ],
      "text/plain": [
       "       product_type_name  product_group_name graphical_appearance_name  \\\n",
       "104954               Top  Garment Upper body                     Solid   \n",
       "53914           Trousers  Garment Lower body                     Solid   \n",
       "17171           Trousers  Garment Lower body                     Denim   \n",
       "104341          Bodysuit  Garment Upper body                      Lace   \n",
       "104341          Bodysuit  Garment Upper body                      Lace   \n",
       "\n",
       "       colour_group_name perceived_colour_value_name  \\\n",
       "104954             Black                        Dark   \n",
       "53914               Blue                Medium Dusty   \n",
       "17171              Black                        Dark   \n",
       "104341             Black                        Dark   \n",
       "104341             Black                        Dark   \n",
       "\n",
       "       perceived_colour_master_name department_name  index_name  \\\n",
       "104954                        Black    Jersey fancy  Ladieswear   \n",
       "53914                          Blue        Trousers     Divided   \n",
       "17171                         Black         Trouser  Ladieswear   \n",
       "104341                        Black    Jersey fancy  Ladieswear   \n",
       "104341                        Black    Jersey fancy  Ladieswear   \n",
       "\n",
       "       index_group_name                section_name garment_group_name  \n",
       "104954       Ladieswear  Womens Everyday Collection       Jersey Fancy  \n",
       "53914           Divided          Divided Collection           Trousers  \n",
       "17171        Ladieswear  Womens Everyday Collection           Trousers  \n",
       "104341       Ladieswear  Womens Everyday Collection       Jersey Fancy  \n",
       "104341       Ladieswear  Womens Everyday Collection       Jersey Fancy  "
      ]
     },
     "execution_count": 17,
     "metadata": {},
     "output_type": "execute_result"
    }
   ],
   "source": []
  },
  {
   "cell_type": "raw",
   "metadata": {},
   "source": [
    "####\n",
    "for col in articles_raw:\n",
    "    print(col, len(unique(array(articles_raw[col]))))"
   ]
  },
  {
   "cell_type": "markdown",
   "metadata": {},
   "source": [
    "# A is one hot encoded articles"
   ]
  },
  {
   "cell_type": "code",
   "execution_count": 29,
   "metadata": {},
   "outputs": [],
   "source": [
    "encoder_A = encode(articles_enc)  # 19x631 max\n",
    "len(encoder_A.categories_), sum([len(cat) for cat in encoder_A.categories_])\n",
    "# I believe this turns it into a vector that can just be dot producted\n",
    "A = encoder_A.transform(array(articles_enc)).toarray()\n",
    "# indeed :0"
   ]
  },
  {
   "cell_type": "code",
   "execution_count": 30,
   "metadata": {},
   "outputs": [],
   "source": [
    "# a list of every feature\n",
    "features = []\n",
    "article_ids = []\n",
    "purchases = []\n",
    "\n",
    "for cat in encoder_A.categories_:\n",
    "    for feature in cat:\n",
    "        features.append(feature)\n",
    "\n",
    "for cart in customer_transactions.values():\n",
    "    for purchase in cart:\n",
    "        article_ids.append(purchase[0])\n",
    "        purchases.append(purchase)"
   ]
  },
  {
   "cell_type": "code",
   "execution_count": null,
   "metadata": {},
   "outputs": [],
   "source": []
  },
  {
   "cell_type": "code",
   "execution_count": 34,
   "metadata": {},
   "outputs": [
    {
     "data": {
      "text/plain": [
       "['Bag',\n",
       " 'Ballerinas',\n",
       " 'Beanie',\n",
       " 'Belt',\n",
       " 'Bikini top',\n",
       " 'Blazer',\n",
       " 'Blouse',\n",
       " 'Bodysuit',\n",
       " 'Boots']"
      ]
     },
     "execution_count": 34,
     "metadata": {},
     "output_type": "execute_result"
    }
   ],
   "source": [
    "#### what features looks like\n",
    "features[:9]"
   ]
  },
  {
   "cell_type": "code",
   "execution_count": 35,
   "metadata": {},
   "outputs": [
    {
     "data": {
      "text/plain": [
       "[929397001,\n",
       " 706016038,\n",
       " 573085057,\n",
       " 921671001,\n",
       " 921671001,\n",
       " 923534001,\n",
       " 914441001,\n",
       " 573085028]"
      ]
     },
     "execution_count": 35,
     "metadata": {},
     "output_type": "execute_result"
    }
   ],
   "source": [
    "article_ids[:8]"
   ]
  },
  {
   "cell_type": "code",
   "execution_count": 36,
   "metadata": {},
   "outputs": [
    {
     "data": {
      "text/plain": [
       "[(929397001, 0.0220169491525423, '2020-09-22'),\n",
       " (706016038, 0.0338813559322033, '2020-09-22'),\n",
       " (573085057, 0.0338813559322033, '2020-09-22'),\n",
       " (921671001, 0.0508305084745762, '2020-09-22'),\n",
       " (921671001, 0.0508305084745762, '2020-09-22'),\n",
       " (923534001, 0.0169322033898305, '2020-09-22'),\n",
       " (914441001, 0.0338813559322033, '2020-09-22'),\n",
       " (573085028, 0.0338813559322033, '2020-09-22')]"
      ]
     },
     "execution_count": 36,
     "metadata": {},
     "output_type": "execute_result"
    }
   ],
   "source": [
    "purchases[:8]"
   ]
  },
  {
   "cell_type": "code",
   "execution_count": 24,
   "metadata": {},
   "outputs": [
    {
     "data": {
      "text/plain": [
       "(382, 382)"
      ]
     },
     "execution_count": 24,
     "metadata": {},
     "output_type": "execute_result"
    }
   ],
   "source": [
    "# after encoding\n",
    "len(A[0]), len(features)"
   ]
  },
  {
   "cell_type": "code",
   "execution_count": null,
   "metadata": {},
   "outputs": [],
   "source": []
  },
  {
   "cell_type": "code",
   "execution_count": 37,
   "metadata": {},
   "outputs": [
    {
     "data": {
      "text/plain": [
       "(True, True)"
      ]
     },
     "execution_count": 37,
     "metadata": {},
     "output_type": "execute_result"
    }
   ],
   "source": [
    "#### checking\n",
    "len(articles_enc) == len(A), len(articles) == len(A)"
   ]
  },
  {
   "cell_type": "code",
   "execution_count": 38,
   "metadata": {},
   "outputs": [
    {
     "name": "stdout",
     "output_type": "stream",
     "text": [
      "921671001 \n",
      "\n",
      "product_type_name : Bodysuit\n",
      "product_group_name : Garment Upper body\n",
      "graphical_appearance_name : Lace\n",
      "colour_group_name : Black\n",
      "perceived_colour_value_name : Dark\n",
      "perceived_colour_master_name : Black\n",
      "department_name : Jersey fancy\n",
      "index_name : Ladieswear\n",
      "index_group_name : Ladieswear\n",
      "section_name : Womens Everyday Collection\n",
      "garment_group_name : Jersey Fancy\n"
     ]
    }
   ],
   "source": [
    "category_names = [col for col in articles_enc.columns]\n",
    "# the black lingere one\n",
    "print(article_ids[3], \"\\n\")\n",
    "\n",
    "for item in zip(category_names,view(A[3])):\n",
    "    print(item[0],\":\" ,item[1])"
   ]
  },
  {
   "cell_type": "code",
   "execution_count": 39,
   "metadata": {},
   "outputs": [
    {
     "name": "stdout",
     "output_type": "stream",
     "text": [
      "929397001\n",
      "VIEWING: i: 0, j: 3,  dot(A[i], A[j]): 9.0\n",
      "view(A[i]): ['Top', 'Garment Upper body', 'Solid', 'Black', 'Dark', 'Black', 'Jersey fancy', 'Ladieswear', 'Ladieswear', 'Womens Everyday Collection', 'Jersey Fancy']\n",
      "view(A[j]): ['Bodysuit', 'Garment Upper body', 'Lace', 'Black', 'Dark', 'Black', 'Jersey fancy', 'Ladieswear', 'Ladieswear', 'Womens Everyday Collection', 'Jersey Fancy'] --\n",
      "\n",
      "\n",
      "918890002\n",
      "VIEWING: i: 64, j: 3,  dot(A[i], A[j]): 9.0\n",
      "view(A[i]): ['Top', 'Garment Upper body', 'Solid', 'Black', 'Dark', 'Black', 'Jersey fancy', 'Ladieswear', 'Ladieswear', 'Womens Everyday Collection', 'Jersey Fancy']\n",
      "view(A[j]): ['Bodysuit', 'Garment Upper body', 'Lace', 'Black', 'Dark', 'Black', 'Jersey fancy', 'Ladieswear', 'Ladieswear', 'Womens Everyday Collection', 'Jersey Fancy'] --\n",
      "\n",
      "\n",
      "918890002\n",
      "VIEWING: i: 233, j: 3,  dot(A[i], A[j]): 9.0\n",
      "view(A[i]): ['Top', 'Garment Upper body', 'Solid', 'Black', 'Dark', 'Black', 'Jersey fancy', 'Ladieswear', 'Ladieswear', 'Womens Everyday Collection', 'Jersey Fancy']\n",
      "view(A[j]): ['Bodysuit', 'Garment Upper body', 'Lace', 'Black', 'Dark', 'Black', 'Jersey fancy', 'Ladieswear', 'Ladieswear', 'Womens Everyday Collection', 'Jersey Fancy'] --\n",
      "\n",
      "\n"
     ]
    }
   ],
   "source": [
    "####\n",
    "\n",
    "for i in range(500):\n",
    "    if 11 > dot(A[i], A[3]) > 8:\n",
    "        print(article_ids[i])\n",
    "        print(f\"VIEWING: i: {i}, j: {3},  dot(A[i], A[j]): {dot(A[i], A[3])}\")\n",
    "        print(f\"view(A[i]): {view(A[i])}\")\n",
    "        print(f\"view(A[j]): {view(A[3])}\", \"--\\n\\n\")"
   ]
  },
  {
   "cell_type": "code",
   "execution_count": 40,
   "metadata": {},
   "outputs": [],
   "source": [
    "n_features = len(features)"
   ]
  },
  {
   "cell_type": "code",
   "execution_count": 41,
   "metadata": {},
   "outputs": [
    {
     "data": {
      "text/plain": [
       "t_dat                                                 2018-09-20\n",
       "customer_id    000058a12d5b43e67d225668fa1f8d618c13dc232df0ca...\n",
       "article_id                                             663713001\n",
       "price                                                   0.050831\n",
       "Name: 0, dtype: object"
      ]
     },
     "execution_count": 41,
     "metadata": {},
     "output_type": "execute_result"
    }
   ],
   "source": [
    "transactions_raw.iloc[0]"
   ]
  },
  {
   "cell_type": "code",
   "execution_count": 42,
   "metadata": {},
   "outputs": [],
   "source": [
    "i = 0\n",
    "category_lengths = []\n",
    "for col in articles_enc.columns:\n",
    "    i += len(list(unique(articles[col])))\n",
    "    category_lengths.append(i)\n",
    "\n",
    "def convertToCat(calculated):\n",
    "    global category_lengths\n",
    "    n = len(calculated)\n",
    "    ret = []\n",
    "    for i in range(len(category_lengths)):\n",
    "        if i == 0:\n",
    "            ret.append(sum(calculated[:category_lengths[i]])) \n",
    "        else:\n",
    "            ret.append(sum(calculated[category_lengths[i-1]:category_lengths[i]]))\n",
    "    return ret"
   ]
  },
  {
   "cell_type": "code",
   "execution_count": 43,
   "metadata": {},
   "outputs": [
    {
     "data": {
      "text/plain": [
       "3583"
      ]
     },
     "execution_count": 43,
     "metadata": {},
     "output_type": "execute_result"
    }
   ],
   "source": [
    "len(articles)"
   ]
  },
  {
   "cell_type": "code",
   "execution_count": 45,
   "metadata": {},
   "outputs": [],
   "source": [
    "article_prices = {}\n",
    "for val in customer_transactions.values():\n",
    "    for tr in val:\n",
    "        article_prices[tr[0]] = tr[1]"
   ]
  },
  {
   "cell_type": "code",
   "execution_count": 46,
   "metadata": {},
   "outputs": [],
   "source": [
    "n_articles = len(articles)\n",
    "#all_customer_inds = [i for i in range(len())]\n",
    "all_article_inds = [i for i in range(len(A))]"
   ]
  },
  {
   "cell_type": "code",
   "execution_count": 32,
   "metadata": {},
   "outputs": [],
   "source": [
    "class Customer(object):\n",
    "    \n",
    "    def initialize(self):\n",
    "        global article_ids, n_features\n",
    "        self.article_inds = [article_ids.index(transaction[0]) for transaction in self.cart]\n",
    "        for ind in self.article_inds:\n",
    "            self.CF += A[ind]\n",
    "\n",
    "    def __init__(self, customer_id, purchases):\n",
    "        self.id = customer_id\n",
    "        self.cart = purchases  # [(art_id),(price),(tdat)]\n",
    "        self.article_inds = []  # to index A\n",
    "        self.n = len(self.cart)\n",
    "        \n",
    "        self.CF = zeros(n_features)\n",
    "        self.X = [] # list of CF copies\n",
    "        self.Y = []\n",
    "        self.initialize()\n",
    "\n",
    "    def generateTrueObs(self, alpha, rep):  # True and False now\n",
    "        sample_size = int(self.n * alpha)\n",
    "        for i in range(rep):  # 15\n",
    "            selected = sample(self.article_inds, sample_size)  # selected inds\n",
    "            remain = [ind for ind in self.article_inds if ind not in selected]\n",
    "            # make X\n",
    "            CF_true = sum([A[ind] for ind in selected])\n",
    "            # TRUE OBS\n",
    "            for rem in remain: # remaining inds\n",
    "                # formula\n",
    "                calculated = list(CF_true*A[rem])\n",
    "                calculated = convertToCat(calculated)\n",
    "                # added price\n",
    "                price = self.cart[self.article_inds.index(rem)][1]\n",
    "                Xi = [price] + calculated\n",
    "                self.X.append(Xi)\n",
    "                self.Y.append([1])\n",
    "            # NEWLY ADDING :: FALSE!\n",
    "            for ind in [randint(0,n_articles-1) for i in range(rep)]:\n",
    "                if ind not in self.article_inds:\n",
    "                    calculated = list(CF_true*A[ind])\n",
    "                    calculated = convertToCat(calculated)\n",
    "                    price = article_prices[article_ids[ind]]\n",
    "                    Xi = [price] + calculated\n",
    "                    self.X.append(Xi)\n",
    "                    self.Y.append([0])\n",
    "\n",
    "    \n",
    "class Model(object):\n",
    "    def __init__(self):\n",
    "        global customer_transactions\n",
    "        self.customers = createCustomers(customer_transactions)\n",
    "        self.n = len(self.customers)\n",
    "                        \n",
    "    def convertToVec(self, customer, ind):\n",
    "        \"\"\"converts indice of article to formula vec \"\"\"\n",
    "        calculated = list(customer.CF*A[ind])\n",
    "        calculated = convertToCat(calculated)\n",
    "        price = article_prices[article_ids[ind]]\n",
    "        Xi = [price] + calculated\n",
    "        return Xi\n",
    "    \n",
    "    def fit(self, alpha, rep):\n",
    "        for i in range(self.n):\n",
    "            self.customers[i].generateTrueObs(alpha, rep)\n",
    "            #self.customers[i].generateFalseObs(rep)\n",
    "    \n",
    "        \n",
    "\n",
    "def createCustomers(__customer_transactions):\n",
    "    Customers = []\n",
    "    for __customer_id in customer_transactions:\n",
    "        Customers.append(Customer(__customer_id, customer_transactions[__customer_id]))\n",
    "    return Customers\n",
    "\n",
    "model = None\n",
    "model = Model()\n",
    "model.fit(0.5, 4)"
   ]
  },
  {
   "cell_type": "code",
   "execution_count": null,
   "metadata": {},
   "outputs": [],
   "source": []
  },
  {
   "cell_type": "code",
   "execution_count": null,
   "metadata": {},
   "outputs": [],
   "source": [
    "class Customer(object):\n",
    "    \n",
    "    def initialize(self):\n",
    "        global article_ids, n_features\n",
    "        self.article_inds = [article_ids.index(transaction[0]) for transaction in self.cart]\n",
    "        for ind in self.article_inds:\n",
    "            self.CF += A[ind]\n",
    "\n",
    "    def __init__(self, customer_id, purchases):\n",
    "        self.id = customer_id\n",
    "        self.cart = purchases  # [(art_id),(price),(tdat)]\n",
    "        self.article_inds = []  # to index A\n",
    "        self.n = len(self.cart)\n",
    "        \n",
    "        self.CF = zeros(n_features)\n",
    "        self.X = [] # list of CF copies\n",
    "        self.Y = []\n",
    "        self.initialize()\n",
    "\n",
    "    def generateTrueObs(self, alpha, rep):\n",
    "        sample_size = int(self.n * alpha)\n",
    "        for i in range(rep): \n",
    "            selected = sample(self.article_inds, sample_size)\n",
    "            remain = [ind for ind in self.article_inds if ind not in selected]\n",
    "            CF_true = sum([A[ind] for ind in selected])\n",
    "            for rem in remain:\n",
    "                calculated = list(CF_true*A[rem])\n",
    "                calculated = convertToCat(calculated)\n",
    "                price = self.cart[self.article_inds.index(rem)][1]\n",
    "                Xi = [price] + calculated\n",
    "                self.X.append(Xi)\n",
    "                self.Y.append([1])\n",
    "            # NEWLY ADDING :: FALSE!\n",
    "            for ind in [randint(0,n_articles-1) for i in range(rep)]:\n",
    "                if ind not in self.article_inds:\n",
    "                    calculated = list(CF_true*A[ind])\n",
    "                    calculated = convertToCat(calculated)\n",
    "                    price = article_prices[article_ids[ind]]\n",
    "                    Xi = [price] + calculated\n",
    "                    self.X.append(Xi)\n",
    "                    self.Y.append([0])\n",
    "\n",
    "class Model(object):\n",
    "    def __init__(self):\n",
    "        global customer_transactions\n",
    "        self.customers = createCustomers(customer_transactions)\n",
    "        self.n = len(self.customers)\n",
    "                        \n",
    "    def convertToVec(self, customer, ind):\n",
    "        calculated = list(customer.CF*A[ind])\n",
    "        calculated = convertToCat(calculated)\n",
    "        price = article_prices[article_ids[ind]]\n",
    "        Xi = [price] + calculated\n",
    "        return Xi\n",
    "    \n",
    "    def fit(self, alpha, rep):\n",
    "        for i in range(self.n):\n",
    "            self.customers[i].generateTrueObs(alpha, rep)\n",
    "    \n",
    "def createCustomers(__customer_transactions):\n",
    "    Customers = []\n",
    "    for __customer_id in customer_transactions:\n",
    "        Customers.append(Customer(__customer_id, customer_transactions[__customer_id]))\n",
    "    return Customers\n",
    "\n",
    "model = None\n",
    "model = Model()\n",
    "model.fit(0.5, 4)"
   ]
  },
  {
   "cell_type": "code",
   "execution_count": 33,
   "metadata": {},
   "outputs": [
    {
     "data": {
      "text/plain": [
       "[0.0338813559322033, 4.0, 4.0, 5.0, 1.0, 1.0, 1.0, 1.0, 2.0, 2.0, 1.0, 3.0]"
      ]
     },
     "execution_count": 33,
     "metadata": {},
     "output_type": "execute_result"
    }
   ],
   "source": [
    "model.convertToVec(model.customers[0], 1)"
   ]
  },
  {
   "cell_type": "code",
   "execution_count": 34,
   "metadata": {},
   "outputs": [
    {
     "data": {
      "text/plain": [
       "[(929397001, 0.0220169491525423, '2020-09-22'),\n",
       " (706016038, 0.0338813559322033, '2020-09-22'),\n",
       " (573085057, 0.0338813559322033, '2020-09-22'),\n",
       " (921671001, 0.0508305084745762, '2020-09-22'),\n",
       " (921671001, 0.0508305084745762, '2020-09-22'),\n",
       " (923534001, 0.0169322033898305, '2020-09-22'),\n",
       " (914441001, 0.0338813559322033, '2020-09-22'),\n",
       " (573085028, 0.0338813559322033, '2020-09-22'),\n",
       " (817110002, 0.0338813559322033, '2020-09-22'),\n",
       " (919273002, 0.0423559322033898, '2020-09-22')]"
      ]
     },
     "execution_count": 34,
     "metadata": {},
     "output_type": "execute_result"
    }
   ],
   "source": [
    "model.customers[0].cart"
   ]
  },
  {
   "cell_type": "code",
   "execution_count": 35,
   "metadata": {},
   "outputs": [
    {
     "data": {
      "text/plain": [
       "(929397001,\n",
       " ['Top',\n",
       "  'Garment Upper body',\n",
       "  'Solid',\n",
       "  'Black',\n",
       "  'Dark',\n",
       "  'Black',\n",
       "  'Jersey fancy',\n",
       "  'Ladieswear',\n",
       "  'Ladieswear',\n",
       "  'Womens Everyday Collection',\n",
       "  'Jersey Fancy'])"
      ]
     },
     "execution_count": 35,
     "metadata": {},
     "output_type": "execute_result"
    }
   ],
   "source": [
    "article_ids[0], view(A[0])"
   ]
  },
  {
   "cell_type": "code",
   "execution_count": null,
   "metadata": {},
   "outputs": [],
   "source": []
  },
  {
   "cell_type": "code",
   "execution_count": null,
   "metadata": {},
   "outputs": [],
   "source": []
  },
  {
   "cell_type": "code",
   "execution_count": 36,
   "metadata": {},
   "outputs": [
    {
     "data": {
      "text/plain": [
       "LinearRegression()"
      ]
     },
     "execution_count": 36,
     "metadata": {},
     "output_type": "execute_result"
    }
   ],
   "source": [
    "from sklearn.linear_model import LinearRegression\n",
    "from sklearn.ensemble import RandomForestClassifier\n",
    "\n",
    "skM = LinearRegression()\n",
    "tty = [item[0] for item in model.customers[0].Y]\n",
    "skM.fit(array(model.customers[0].X), array(model.customers[0].Y))"
   ]
  },
  {
   "cell_type": "code",
   "execution_count": 48,
   "metadata": {},
   "outputs": [
    {
     "name": "stdout",
     "output_type": "stream",
     "text": [
      "0768229001[[4.35557513]]\n",
      "0915292001[[4.44008715]]\n",
      "0791587001[[4.44008715]]\n",
      "0885547001[[4.36698792]]\n",
      "0876043001[[4.4454965]]\n",
      "0868283001[[4.51669516]]\n",
      "0915921002[[4.51318639]]\n",
      "0915921002[[4.51318639]]\n",
      "0915921002[[4.51318639]]\n",
      "0441386001[[4.66019331]]\n",
      "0924453003[[4.36698792]]\n",
      "0915292001[[4.44008715]]\n",
      "0915292001[[4.44008715]]\n",
      "0851370002[[4.44008715]]\n",
      "0915921002[[4.51318639]]\n",
      "0915292001[[4.44008715]]\n",
      "0907702002[[4.30148169]]\n",
      "0907702002[[4.30148169]]\n",
      "0907951001[[4.30148169]]\n",
      "0907951001[[4.30148169]]\n",
      "0740519002[[4.55054445]]\n",
      "0875350001[[4.52780624]]\n",
      "0924453003[[4.36698792]]\n",
      "0862063001[[4.39622761]]\n",
      "0862063001[[4.39622761]]\n",
      "0907951001[[4.30148169]]\n",
      "0791587001[[4.44008715]]\n",
      "0740519002[[4.55054445]]\n",
      "0768147001[[4.34534123]]\n",
      "0927576002[[4.44008715]]\n"
     ]
    }
   ],
   "source": [
    "def test(model):\n",
    "    \"given the skModel trained on one person\"\n",
    "    already = [arr[0] for arr in model.customers[0].cart]\n",
    "    for i in range(n_articles):\n",
    "        # i = article indice\n",
    "        Xtest = model.convertToVec(model.customers[0], i)  # person 0\n",
    "        pred = skM.predict([Xtest])\n",
    "        if pred[0] > 4.3 and article_ids[i] not in already:\n",
    "            print(\"0\",article_ids[i], pred, sep=\"\")\n",
    "        \n",
    "test(model)"
   ]
  },
  {
   "cell_type": "code",
   "execution_count": null,
   "metadata": {},
   "outputs": [],
   "source": []
  },
  {
   "cell_type": "code",
   "execution_count": null,
   "metadata": {},
   "outputs": [],
   "source": []
  },
  {
   "cell_type": "code",
   "execution_count": null,
   "metadata": {},
   "outputs": [],
   "source": []
  },
  {
   "cell_type": "code",
   "execution_count": null,
   "metadata": {},
   "outputs": [],
   "source": [
    "# trying the entire model with customer c1\n",
    "testItems = purchases[:100] # (3)(3)(3)\n",
    "testArray = [c1.calc_array(ti) for ti in testItems]  # [2][2][2]\n",
    "pred = lm.predict(testArray)\n",
    "for i in range(len(pred)):\n",
    "    if pred[i] > 0.55:\n",
    "        v = article_ids.index(testItems[i][0])\n",
    "        print(view(A[v]))\n",
    "        print(pred[i])\n",
    "\n"
   ]
  },
  {
   "cell_type": "code",
   "execution_count": null,
   "metadata": {},
   "outputs": [],
   "source": []
  },
  {
   "cell_type": "code",
   "execution_count": null,
   "metadata": {},
   "outputs": [],
   "source": []
  },
  {
   "cell_type": "code",
   "execution_count": null,
   "metadata": {},
   "outputs": [],
   "source": [
    "def createCustomers(__customer_transactions):\n",
    "    Customers = []\n",
    "    for c_id in customer_transactions:\n",
    "        Customers.append(Customer(c_id, customer_transactions[c_id]))\n",
    "    return Customers\n",
    "\n",
    "class Customer(object):\n",
    "    def initialize(self):\n",
    "        self.article_inds = [article_ids.index(transaction) for transaction in self.cart]\n",
    "        for ind in self.article_inds:\n",
    "            self.CF += A[ind]\n",
    "\n",
    "    def __init__(self, customer_id, purchases):\n",
    "        self.id = customer_id\n",
    "        self.cart = purchases\n",
    "        self.article_inds = []\n",
    "        self.CF = zeros(n_features)\n",
    "        self.X, self.Y, self.n = [], [], len(self.cart)\n",
    "        self.initialize()\n",
    "\n",
    "    def generateObs(self, alpha, rep):\n",
    "        sample_size = int(self.n * alpha)\n",
    "        for i in range(rep):\n",
    "            selected = sample(self.article_inds, sample_size)  \n",
    "            remain = [ind for ind in self.article_inds if ind not in selected]\n",
    "            CF = sum([A[ind] for ind in selected])\n",
    "            for rem in remain:\n",
    "                Xi = getXi(CF, rem)\n",
    "                self.X.append(Xi)\n",
    "                self.Y.append([1])\n",
    "            for ind in [randint(0,n_articles-1) for i in range(rep*2)]:\n",
    "                if ind not in self.article_inds:\n",
    "                    Xi = getXi(CF, ind)\n",
    "                    self.X.append(Xi)\n",
    "                    self.Y.append([0])\n",
    "\n",
    "class Model(object):\n",
    "    def __init__(self):\n",
    "        self.customers = createCustomers(customer_transactions)\n",
    "        self.n = len(self.customers)\n",
    "                        \n",
    "    def convertToVec(self, customer, ind):\n",
    "        calculated = list(customer.CF*A[ind])\n",
    "        calculated = convertToCat(calculated)\n",
    "        price = article_prices[article_ids[ind]]\n",
    "        Xi = [price] + calculated\n",
    "        return Xi\n",
    "    \n",
    "    def fit(self, alpha, rep):\n",
    "        for i in range(self.n):\n",
    "            self.customers[i].generateObs(alpha, rep)\n",
    "        print(\"Model Has been fitted with\", len(model.customers))"
   ]
  },
  {
   "cell_type": "code",
   "execution_count": null,
   "metadata": {},
   "outputs": [],
   "source": [
    "model = Model()\n",
    "model.fit(0.5, 4)"
   ]
  },
  {
   "cell_type": "code",
   "execution_count": null,
   "metadata": {},
   "outputs": [],
   "source": []
  },
  {
   "cell_type": "code",
   "execution_count": null,
   "metadata": {},
   "outputs": [],
   "source": []
  },
  {
   "cell_type": "code",
   "execution_count": 334,
   "metadata": {},
   "outputs": [
    {
     "data": {
      "text/plain": [
       "[(929397001, 0.0220169491525423, '2020-09-22'),\n",
       " (706016038, 0.0338813559322033, '2020-09-22'),\n",
       " (573085057, 0.0338813559322033, '2020-09-22'),\n",
       " (921671001, 0.0508305084745762, '2020-09-22'),\n",
       " (921671001, 0.0508305084745762, '2020-09-22'),\n",
       " (923534001, 0.0169322033898305, '2020-09-22'),\n",
       " (914441001, 0.0338813559322033, '2020-09-22'),\n",
       " (573085028, 0.0338813559322033, '2020-09-22'),\n",
       " (817110002, 0.0338813559322033, '2020-09-22'),\n",
       " (919273002, 0.0423559322033898, '2020-09-22')]"
      ]
     },
     "execution_count": 334,
     "metadata": {},
     "output_type": "execute_result"
    }
   ],
   "source": [
    "model.customers[0].cart"
   ]
  },
  {
   "cell_type": "code",
   "execution_count": null,
   "metadata": {},
   "outputs": [],
   "source": []
  },
  {
   "cell_type": "code",
   "execution_count": null,
   "metadata": {},
   "outputs": [],
   "source": []
  }
 ],
 "metadata": {
  "kernelspec": {
   "display_name": "Python 3 (ipykernel)",
   "language": "python",
   "name": "python3"
  },
  "language_info": {
   "codemirror_mode": {
    "name": "ipython",
    "version": 3
   },
   "file_extension": ".py",
   "mimetype": "text/x-python",
   "name": "python",
   "nbconvert_exporter": "python",
   "pygments_lexer": "ipython3",
   "version": "3.7.4"
  }
 },
 "nbformat": 4,
 "nbformat_minor": 4
}
